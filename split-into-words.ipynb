{
 "cells": [
  {
   "cell_type": "code",
   "execution_count": 1,
   "metadata": {
    "collapsed": false
   },
   "outputs": [],
   "source": [
    "with open(r\"C:\\Users\\Smart PC\\Desktop\\7th\\fb\\test2\\newreal_output2.txt\") as f:\n",
    "    with open(r\"C:\\Users\\Smart PC\\Desktop\\7th\\fb\\test2\\Aftersplit2.txt\",'w') as g:\n",
    "        for line in f:\n",
    "            line.strip()\n",
    "            a=line.split()\n",
    "            for i in a:\n",
    "                b=i.split(\"/\")\n",
    "                g.write(\"%s\\n\"%b[0])  \n",
    "            g.write(\"\\n\\n\")\n",
    "        g.close()\n",
    "f.close()\n",
    "        \n",
    "        \n",
    "            "
   ]
  },
  {
   "cell_type": "code",
   "execution_count": 2,
   "metadata": {
    "collapsed": true
   },
   "outputs": [],
   "source": [
    "with open(r\"C:\\Users\\Smart PC\\Desktop\\7th\\fb\\test2\\newreal_output2.txt\") as f:\n",
    "    with open(r\"C:\\Users\\Smart PC\\Desktop\\7th\\fb\\test2\\POStags2.txt\",'w') as g:\n",
    "        for line in f:\n",
    "            line.strip()\n",
    "            a=line.split()\n",
    "            for i in a:\n",
    "                b=i.split(\"/\")\n",
    "                g.write(\"%s\\n\"%b[2])  \n",
    "            g.write(\"\\n\\n\")\n",
    "        g.close()\n",
    "f.close()\n",
    "       "
   ]
  },
  {
   "cell_type": "code",
   "execution_count": 3,
   "metadata": {
    "collapsed": true
   },
   "outputs": [],
   "source": [
    "with open(r\"C:\\Users\\Smart PC\\Desktop\\7th\\fb\\test2\\newreal_output2.txt\") as f:\n",
    "    with open(r\"C:\\Users\\Smart PC\\Desktop\\7th\\fb\\test2\\name_entity2.txt\",'w') as g:\n",
    "        for line in f:\n",
    "            line.strip()\n",
    "            a=line.split()\n",
    "            for i in a:\n",
    "                b=i.split(\"/\")\n",
    "                g.write(\"%s\\n\"%b[1])  \n",
    "            g.write(\"\\n\\n\")\n",
    "        g.close()\n",
    "f.close()\n",
    "       "
   ]
  },
  {
   "cell_type": "code",
   "execution_count": 4,
   "metadata": {
    "collapsed": false
   },
   "outputs": [],
   "source": [
    "with open(r\"C:\\Users\\Smart PC\\Desktop\\7th\\fb\\test2\\newreal_output2.txt\") as f:\n",
    "    with open(r\"C:\\Users\\Smart PC\\Desktop\\7th\\fb\\test2\\PW2.txt\",'w') as g :\n",
    "        for line in f:\n",
    "            line.strip()\n",
    "            a=line.split()\n",
    "            g.write(\"\\n\")\n",
    "            for i in range(0,len(a)-1):\n",
    "                b=a[i].split(\"/\") \n",
    "                g.write(\"%s\\n\"%b[0])\n",
    "            g.write(\"\\n\\n\")\n",
    "        g.close()\n",
    "f.close()\n",
    "      "
   ]
  },
  {
   "cell_type": "code",
   "execution_count": 12,
   "metadata": {
    "collapsed": true
   },
   "outputs": [],
   "source": [
    "with open(r\"C:\\Users\\Smart PC\\Desktop\\7th\\fb\\test2\\newreal_output2.txt\") as f:\n",
    "    with open(r\"C:\\Users\\Smart PC\\Desktop\\7th\\fb\\test2\\PPW2.txt\",'w') as g:\n",
    "        for line in f:\n",
    "            line.strip()\n",
    "            a=line.split()\n",
    "            g.write(\"\\n\")\n",
    "            g.write(\"\\n\")\n",
    "            for i in range(0,len(a)-2):\n",
    "                b=a[i].split(\"/\") \n",
    "                g.write(\"%s\\n\"%b[0])\n",
    "            g.write(\"\\n\\n\")\n",
    "        g.close()\n",
    "f.close()\n",
    "      "
   ]
  },
  {
   "cell_type": "code",
   "execution_count": 6,
   "metadata": {
    "collapsed": true
   },
   "outputs": [],
   "source": [
    "with open(r\"C:\\Users\\Smart PC\\Desktop\\7th\\fb\\test2\\newreal_output2.txt\") as f:\n",
    "    with open(r\"C:\\Users\\Smart PC\\Desktop\\7th\\fb\\test2\\NW2.txt\",'w') as g:\n",
    "        for line in f:\n",
    "            line.strip()\n",
    "            a=line.split()\n",
    "            for i in range(1,len(a)):\n",
    "                b=a[i].split(\"/\") \n",
    "                g.write(\"%s\\n\"%b[0])\n",
    "            g.write(\"\\n\")\n",
    "            g.write(\"\\n\\n\")\n",
    "        g.close()\n",
    "f.close()"
   ]
  },
  {
   "cell_type": "code",
   "execution_count": 7,
   "metadata": {
    "collapsed": true
   },
   "outputs": [],
   "source": [
    "with open(r\"C:\\Users\\Smart PC\\Desktop\\7th\\fb\\test2\\newreal_output2.txt\") as f:\n",
    "    with open(r\"C:\\Users\\Smart PC\\Desktop\\7th\\fb\\test2\\NNW2.txt\",'w') as g:\n",
    "        for line in f:\n",
    "            line.strip()\n",
    "            a=line.split()\n",
    "            for i in range(2,len(a)):\n",
    "                b=a[i].split(\"/\") \n",
    "                g.write(\"%s\\n\"%b[0])\n",
    "            g.write(\"\\n\\n\")\n",
    "            g.write(\"\\n\\n\")\n",
    "        g.close()\n",
    "f.close()"
   ]
  },
  {
   "cell_type": "code",
   "execution_count": 1,
   "metadata": {
    "collapsed": false
   },
   "outputs": [],
   "source": [
    "with open(r\"C:\\Users\\Smart PC\\Desktop\\7th\\fb\\test2\\newreal_output2.txt\") as f:\n",
    "    with open(r\"C:\\Users\\Smart PC\\Desktop\\7th\\fb\\test2\\Phrase2.txt\",'w') as g:\n",
    "        for line in f:\n",
    "            line.strip()\n",
    "            a=line.split()\n",
    "            b=[]\n",
    "            c=[]\n",
    "            for i in range(0,len(a)):\n",
    "                b.insert(i,(a[i].split(\"/\"))[0])\n",
    "                c.insert(i,(a[i].split(\"/\"))[3])\n",
    "            pos=[]\n",
    "            for j in range(0,len(c)):\n",
    "                d=c[j].split(\"-\")\n",
    "                pos.insert(j,d)\n",
    "            for i in range(0,len(b)):\n",
    "                if(pos[i][0]==\"O\"):\n",
    "                    g.write(\"%s\\n\"%b[i])\n",
    "                else:\n",
    "                    s=b[i]+\" \"\n",
    "                    c=0\n",
    "                    if(pos[i][0]==\"I\"):\n",
    "                        continue\n",
    "                    i=i+1\n",
    "                    while(i<len(b) and pos[i][0]=='I'):\n",
    "                        c=c+1\n",
    "                        s=s+b[i]+\" \"\n",
    "                        i=i+1\n",
    "                    if(c==0):\n",
    "                        g.write(\"%s\\n\"%b[i-1])\n",
    "                        continue\n",
    "                    i=i+c\n",
    "                    while(c>=0):\n",
    "                        c=c-1\n",
    "                        g.write(\"%s\\n\"%s)\n",
    "                    i=i-1\n",
    "            g.write(\"\\n\\n\")\n",
    "        g.close()\n",
    "f.close()"
   ]
  },
  {
   "cell_type": "code",
   "execution_count": 6,
   "metadata": {
    "collapsed": false
   },
   "outputs": [],
   "source": [
    "from itertools import zip_longest"
   ]
  },
  {
   "cell_type": "code",
   "execution_count": 27,
   "metadata": {
    "collapsed": false
   },
   "outputs": [],
   "source": [
    "with open(r\"C:\\Users\\Smart PC\\Desktop\\7th\\fb\\test2\\newreal_output2.txt\") as f,open/\n",
    "/(r\"C:\\Users\\Smart PC\\Desktop\\7th\\fb\\test2\\compressed_sent_POS2.txt\") as g,open(r\"C:\\Users\\Smart PC\\Desktop\\7th\\fb\\test2\\stat2.txt\",'w') as h:\n",
    "    for l1, l2 in zip_longest(f,g):\n",
    "        l1.strip()\n",
    "        a=l1.split()\n",
    "        l2.strip()\n",
    "        b=l2.split()\n",
    "        x=0\n",
    "        for y in range(0,len(b)):\n",
    "            while(x<len(a)):\n",
    "                if(a[x]==b[y]):\n",
    "                    h.write(\"R\\n\")\n",
    "                    x=x+1\n",
    "                    break\n",
    "                else:\n",
    "                    h.write(\"D\\n\")\n",
    "                    x=x+1\n",
    "        if(x<len(a)):\n",
    "            while(x<len(a)):\n",
    "                h.write(\"D\\n\")\n",
    "                x=x+1\n",
    "        h.write(\"\\n\\n\")           \n",
    "h.close()    \n",
    "g.close()\n",
    "f.close()"
   ]
  },
  {
   "cell_type": "code",
   "execution_count": 8,
   "metadata": {
    "collapsed": true
   },
   "outputs": [],
   "source": [
    "with open(r\"C:\\Users\\Smart PC\\Desktop\\7th\\fb\\test2\\newreal_output2.txt\") as f:\n",
    "    with open(r\"C:\\Users\\Smart PC\\Desktop\\7th\\fb\\test2\\PWPOS2.txt\",'w') as g :\n",
    "        for line in f:\n",
    "            line.strip()\n",
    "            a=line.split()\n",
    "            g.write(\"\\n\")\n",
    "            for i in range(0,len(a)-1):\n",
    "                b=a[i].split(\"/\") \n",
    "                g.write(\"%s\\n\"%b[2])\n",
    "            g.write(\"\\n\\n\")\n",
    "        g.close()\n",
    "f.close()\n",
    "      "
   ]
  },
  {
   "cell_type": "code",
   "execution_count": 9,
   "metadata": {
    "collapsed": true
   },
   "outputs": [],
   "source": [
    "with open(r\"C:\\Users\\Smart PC\\Desktop\\7th\\fb\\test2\\newreal_output2.txt\") as f:\n",
    "    with open(r\"C:\\Users\\Smart PC\\Desktop\\7th\\fb\\test2\\PPWPOS2.txt\",'w') as g:\n",
    "        for line in f:\n",
    "            line.strip()\n",
    "            a=line.split()\n",
    "            g.write(\"\\n\")\n",
    "            g.write(\"\\n\")\n",
    "            for i in range(0,len(a)-2):\n",
    "                b=a[i].split(\"/\") \n",
    "                g.write(\"%s\\n\"%b[2])\n",
    "            g.write(\"\\n\\n\")\n",
    "        g.close()\n",
    "f.close()\n",
    "      "
   ]
  },
  {
   "cell_type": "code",
   "execution_count": 10,
   "metadata": {
    "collapsed": true
   },
   "outputs": [],
   "source": [
    "with open(r\"C:\\Users\\Smart PC\\Desktop\\7th\\fb\\test2\\newreal_output2.txt\") as f:\n",
    "    with open(r\"C:\\Users\\Smart PC\\Desktop\\7th\\fb\\test2\\NWPOS2.txt\",'w') as g:\n",
    "        for line in f:\n",
    "            line.strip()\n",
    "            a=line.split()\n",
    "            for i in range(1,len(a)):\n",
    "                b=a[i].split(\"/\") \n",
    "                g.write(\"%s\\n\"%b[2])\n",
    "            g.write(\"\\n\")\n",
    "            g.write(\"\\n\\n\")\n",
    "        g.close()\n",
    "f.close()"
   ]
  },
  {
   "cell_type": "code",
   "execution_count": 11,
   "metadata": {
    "collapsed": true
   },
   "outputs": [],
   "source": [
    "with open(r\"C:\\Users\\Smart PC\\Desktop\\7th\\fb\\test2\\newreal_output2.txt\") as f:\n",
    "    with open(r\"C:\\Users\\Smart PC\\Desktop\\7th\\fb\\test2\\NNWPOS2.txt\",'w') as g:\n",
    "        for line in f:\n",
    "            line.strip()\n",
    "            a=line.split()\n",
    "            for i in range(2,len(a)):\n",
    "                b=a[i].split(\"/\") \n",
    "                g.write(\"%s\\n\"%b[2])\n",
    "            g.write(\"\\n\\n\")\n",
    "            g.write(\"\\n\\n\")\n",
    "        g.close()\n",
    "f.close()"
   ]
  },
  {
   "cell_type": "code",
   "execution_count": null,
   "metadata": {
    "collapsed": true
   },
   "outputs": [],
   "source": []
  }
 ],
 "metadata": {
  "kernelspec": {
   "display_name": "py36-test",
   "language": "python",
   "name": "py36-test"
  },
  "language_info": {
   "codemirror_mode": {
    "name": "ipython",
    "version": 3
   },
   "file_extension": ".py",
   "mimetype": "text/x-python",
   "name": "python",
   "nbconvert_exporter": "python",
   "pygments_lexer": "ipython3",
   "version": "3.6.2"
  }
 },
 "nbformat": 4,
 "nbformat_minor": 2
}
